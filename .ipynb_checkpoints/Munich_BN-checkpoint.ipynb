{
 "cells": [
  {
   "cell_type": "markdown",
   "id": "984e6553-0313-45d6-85f9-ca7b66f1f52f",
   "metadata": {},
   "source": [
    "Main code from here"
   ]
  },
  {
   "cell_type": "code",
   "execution_count": 1,
   "id": "80211064-cefa-4860-a578-14bcfc3f3de6",
   "metadata": {},
   "outputs": [
    {
     "name": "stderr",
     "output_type": "stream",
     "text": [
      "Loading required package: rpanel\n",
      "\n",
      "Loading required package: tcltk\n",
      "\n",
      "Package `rpanel', version 1.1-5: type help(rpanel) for summary information\n",
      "\n",
      "Loading required package: xtable\n",
      "\n"
     ]
    },
    {
     "name": "stdout",
     "output_type": "stream",
     "text": [
      "'data.frame':\t2053 obs. of  12 variables:\n",
      " $ rent     : num  741 716 528 554 698 ...\n",
      " $ rentsqm  : num  10.9 11.01 8.38 8.52 6.98 ...\n",
      " $ area     : int  68 65 63 65 100 81 55 79 52 77 ...\n",
      " $ rooms    : int  2 2 3 3 4 4 2 3 1 3 ...\n",
      " $ yearc    : num  1918 1995 1918 1983 1995 ...\n",
      " $ bathextra: Factor w/ 2 levels \"no\",\"yes\": 1 1 1 2 2 1 2 1 1 1 ...\n",
      " $ bathtile : Factor w/ 2 levels \"yes\",\"no\": 1 1 1 1 1 1 1 1 1 1 ...\n",
      " $ cheating : Factor w/ 2 levels \"yes\",\"no\": 1 1 1 1 1 1 1 1 1 1 ...\n",
      " $ district : Factor w/ 25 levels \"All-Umenz\",\"Alt-Le\",..: 10 10 10 17 17 17 21 21 21 21 ...\n",
      " $ location : Ord.factor w/ 3 levels \"normal\"<\"good\"<..: 2 2 2 1 2 1 1 1 1 1 ...\n",
      " $ upkitchen: Factor w/ 2 levels \"no\",\"yes\": 1 1 1 1 2 1 1 1 1 1 ...\n",
      " $ wwater   : Factor w/ 2 levels \"yes\",\"no\": 1 1 1 1 1 1 1 1 1 1 ...\n"
     ]
    },
    {
     "data": {
      "text/html": [
       "<style>\n",
       ".list-inline {list-style: none; margin:0; padding: 0}\n",
       ".list-inline>li {display: inline-block}\n",
       ".list-inline>li:not(:last-child)::after {content: \"\\00b7\"; padding: 0 .5ex}\n",
       "</style>\n",
       "<ol class=list-inline><li>'rent'</li><li>'rentsqm'</li><li>'area'</li><li>'rooms'</li><li>'yearc'</li><li>'bathextra'</li><li>'bathtile'</li><li>'cheating'</li><li>'district'</li><li>'location'</li><li>'upkitchen'</li><li>'wwater'</li></ol>\n"
      ],
      "text/latex": [
       "\\begin{enumerate*}\n",
       "\\item 'rent'\n",
       "\\item 'rentsqm'\n",
       "\\item 'area'\n",
       "\\item 'rooms'\n",
       "\\item 'yearc'\n",
       "\\item 'bathextra'\n",
       "\\item 'bathtile'\n",
       "\\item 'cheating'\n",
       "\\item 'district'\n",
       "\\item 'location'\n",
       "\\item 'upkitchen'\n",
       "\\item 'wwater'\n",
       "\\end{enumerate*}\n"
      ],
      "text/markdown": [
       "1. 'rent'\n",
       "2. 'rentsqm'\n",
       "3. 'area'\n",
       "4. 'rooms'\n",
       "5. 'yearc'\n",
       "6. 'bathextra'\n",
       "7. 'bathtile'\n",
       "8. 'cheating'\n",
       "9. 'district'\n",
       "10. 'location'\n",
       "11. 'upkitchen'\n",
       "12. 'wwater'\n",
       "\n",
       "\n"
      ],
      "text/plain": [
       " [1] \"rent\"      \"rentsqm\"   \"area\"      \"rooms\"     \"yearc\"     \"bathextra\"\n",
       " [7] \"bathtile\"  \"cheating\"  \"district\"  \"location\"  \"upkitchen\" \"wwater\"   "
      ]
     },
     "metadata": {},
     "output_type": "display_data"
    }
   ],
   "source": [
    "library(LinRegInteractive)\n",
    "data(munichrent03)\n",
    "data <- munichrent03 \n",
    "str(data)\n",
    "names(data)"
   ]
  },
  {
   "cell_type": "code",
   "execution_count": 2,
   "id": "81da7842-5180-4e85-adde-4e98ee69e1e6",
   "metadata": {},
   "outputs": [
    {
     "data": {
      "text/plain": [
       "      rent            rentsqm            area           rooms      \n",
       " Min.   :  77.31   Min.   : 1.470   Min.   : 17.0   Min.   :1.000  \n",
       " 1st Qu.: 389.95   1st Qu.: 6.800   1st Qu.: 53.0   1st Qu.:2.000  \n",
       " Median : 534.30   Median : 8.470   Median : 67.0   Median :3.000  \n",
       " Mean   : 570.09   Mean   : 8.394   Mean   : 69.6   Mean   :2.598  \n",
       " 3rd Qu.: 700.48   3rd Qu.:10.090   3rd Qu.: 83.0   3rd Qu.:3.000  \n",
       " Max.   :1789.55   Max.   :20.090   Max.   :185.0   Max.   :6.000  \n",
       "                                                                   \n",
       "     yearc      bathextra  bathtile   cheating        district      location   \n",
       " Min.   :1918   no :1862   yes:1673   yes:1878   Neuh-Nymp: 177   normal:1205  \n",
       " 1st Qu.:1948   yes: 191   no : 380   no : 175   Lud-Isar : 161   good  : 803  \n",
       " Median :1960                                    Au-Haid  : 139   top   :  45  \n",
       " Mean   :1958                                    SchwWest : 137                \n",
       " 3rd Qu.:1973                                    Maxvor   : 132                \n",
       " Max.   :2001                                    Laim     : 117                \n",
       "                                                 (Other)  :1190                \n",
       " upkitchen  wwater    \n",
       " no :1903   yes:1981  \n",
       " yes: 150   no :  72  \n",
       "                      \n",
       "                      \n",
       "                      \n",
       "                      \n",
       "                      "
      ]
     },
     "metadata": {},
     "output_type": "display_data"
    }
   ],
   "source": [
    "summary(data)"
   ]
  },
  {
   "cell_type": "markdown",
   "id": "c7127d9e-f40d-48e9-a22b-e6a2bcbbe5f9",
   "metadata": {},
   "source": [
    "rentsqm = rent * area"
   ]
  },
  {
   "cell_type": "code",
   "execution_count": 3,
   "id": "73ad3ed7-abdd-4725-92bf-b8025d806e28",
   "metadata": {},
   "outputs": [
    {
     "data": {
      "text/html": [
       "11.01"
      ],
      "text/latex": [
       "11.01"
      ],
      "text/markdown": [
       "11.01"
      ],
      "text/plain": [
       "[1] 11.01"
      ]
     },
     "metadata": {},
     "output_type": "display_data"
    },
    {
     "data": {
      "text/html": [
       "11.01"
      ],
      "text/latex": [
       "11.01"
      ],
      "text/markdown": [
       "11.01"
      ],
      "text/plain": [
       "[1] 11.01"
      ]
     },
     "metadata": {},
     "output_type": "display_data"
    },
    {
     "data": {
      "text/html": [
       "11.3"
      ],
      "text/latex": [
       "11.3"
      ],
      "text/markdown": [
       "11.3"
      ],
      "text/plain": [
       "[1] 11.3"
      ]
     },
     "metadata": {},
     "output_type": "display_data"
    },
    {
     "data": {
      "text/html": [
       "11.3"
      ],
      "text/latex": [
       "11.3"
      ],
      "text/markdown": [
       "11.3"
      ],
      "text/plain": [
       "[1] 11.3"
      ]
     },
     "metadata": {},
     "output_type": "display_data"
    }
   ],
   "source": [
    "round(data$rent[2]/data$area[2],2)\n",
    "data$rentsqm[2]\n",
    "round(data$rent[100]/data$area[100],2)\n",
    "data$rentsqm[100]"
   ]
  },
  {
   "cell_type": "code",
   "execution_count": 4,
   "id": "1dd1b4ae-3ff4-4b71-b48a-0d5ee3e9114c",
   "metadata": {},
   "outputs": [],
   "source": [
    "data$rentsqm <- NULL"
   ]
  },
  {
   "cell_type": "code",
   "execution_count": 5,
   "id": "3ec4b4ce-32a5-4006-bc4a-0b4cc20996a9",
   "metadata": {},
   "outputs": [
    {
     "data": {
      "text/plain": [
       "\n",
       "Neuh-Nymp  Lud-Isar   Au-Haid  SchwWest    Maxvor      Laim   Ram-Per \n",
       "      177       161       139       137       132       117       115 "
      ]
     },
     "metadata": {},
     "output_type": "display_data"
    },
    {
     "data": {
      "text/plain": [
       "\n",
       "     Maxvor   Neuh-Nymp    Lud-Isar    SchwWest     Au-Haid Schwab-Frei \n",
       "        118         116          97          96          81          50 \n",
       "   Trud-Rie \n",
       "         37 "
      ]
     },
     "metadata": {},
     "output_type": "display_data"
    }
   ],
   "source": [
    "head(sort(table(data$district), decreasing = TRUE), 7)\n",
    "head(sort(table(data$district[data$location %in% c(\"top\", \"good\")]), \n",
    "          decreasing = TRUE),7)"
   ]
  },
  {
   "cell_type": "code",
   "execution_count": 6,
   "id": "eec5f306-5ed7-45de-a3f5-a281997965b1",
   "metadata": {},
   "outputs": [
    {
     "data": {
      "text/plain": [
       "\n",
       "     Maxvor   Neuh-Nymp    Lud-Isar    SchwWest     Au-Haid Schwab-Frei \n",
       "        118         116          97          96          81          50 \n",
       "   Trud-Rie \n",
       "         37 "
      ]
     },
     "metadata": {},
     "output_type": "display_data"
    }
   ],
   "source": [
    "head(sort(table(data$district[data$location %in% c(\"top\", \"good\")]), \n",
    "          decreasing = TRUE),7)"
   ]
  },
  {
   "cell_type": "code",
   "execution_count": 7,
   "id": "74be68f4-aa52-4568-8cd0-f211bfe9a215",
   "metadata": {},
   "outputs": [
    {
     "name": "stderr",
     "output_type": "stream",
     "text": [
      "\n",
      "Attaching package: 'dplyr'\n",
      "\n",
      "\n",
      "The following objects are masked from 'package:stats':\n",
      "\n",
      "    filter, lag\n",
      "\n",
      "\n",
      "The following objects are masked from 'package:base':\n",
      "\n",
      "    intersect, setdiff, setequal, union\n",
      "\n",
      "\n"
     ]
    },
    {
     "name": "stdout",
     "output_type": "stream",
     "text": [
      "    Feature Count Percent\n",
      "1 bathextra   191     9.3\n",
      "2  bathtile  1673    81.5\n",
      "3  cheating  1878    91.5\n",
      "4 upkitchen   150     7.3\n",
      "5    wwater  1981    96.5\n"
     ]
    }
   ],
   "source": [
    "library(dplyr)\n",
    "cols <- c(\"bathextra\", \"bathtile\", \"cheating\", \"upkitchen\", \"wwater\")\n",
    "total_n <- nrow(data)\n",
    "feature_yes_count <- sapply(cols, function(col) {\n",
    "  sum(data[[col]] == \"yes\", na.rm = TRUE)\n",
    "}) |> unname()\n",
    "feature_summary <- data.frame(\n",
    "  Feature = cols,\n",
    "  Count = as.integer(feature_yes_count),\n",
    "  Percent = round(100 * feature_yes_count / total_n, 1)\n",
    ")\n",
    "print(feature_summary)"
   ]
  },
  {
   "cell_type": "code",
   "execution_count": 8,
   "id": "fa3f8033-43c8-4800-979a-394c36745de9",
   "metadata": {},
   "outputs": [
    {
     "data": {
      "text/plain": [
       "\n",
       "     Neuh-Nymp         Bogenh       Trud-Rie        Au-Haid       Au-Lo-La \n",
       "             6              4              3              2              2 \n",
       "    Pas-Obmenz Th-Ob-Fo-Fu-So \n",
       "             2              2 "
      ]
     },
     "metadata": {},
     "output_type": "display_data"
    }
   ],
   "source": [
    "head(sort(table(data$district[data$bathextra == \"yes\" &\n",
    "    data$cheating == \"yes\" &  data$upkitchen == \"yes\" &\n",
    "    data$wwater == \"yes\" &data$bathtile==\"yes\"\n",
    "    ]), decreasing = TRUE), 7)"
   ]
  },
  {
   "cell_type": "code",
   "execution_count": 9,
   "id": "e17b85f9-e41c-4ace-9478-bb729a6b0330",
   "metadata": {},
   "outputs": [
    {
     "data": {
      "image/png": "[encoded data removed]",
      "text/plain": [
       "plot without title"
      ]
     },
     "metadata": {
      "image/png": {
       "height": 420,
       "width": 420
      }
     },
     "output_type": "display_data"
    }
   ],
   "source": [
    "library(DataExplorer)\n",
    "plot_histogram(data)"
   ]
  },
  {
   "cell_type": "code",
   "execution_count": 10,
   "id": "b1d20967-d4da-4303-85aa-15a3877190ae",
   "metadata": {},
   "outputs": [
    {
     "data": {
      "text/plain": [
       "\n",
       "\tShapiro-Wilk normality test\n",
       "\n",
       "data:  data$rent\n",
       "W = 0.94478, p-value < 2.2e-16\n"
      ]
     },
     "metadata": {},
     "output_type": "display_data"
    },
    {
     "data": {
      "text/plain": [
       "\n",
       "\tShapiro-Wilk normality test\n",
       "\n",
       "data:  data$area\n",
       "W = 0.96226, p-value < 2.2e-16\n"
      ]
     },
     "metadata": {},
     "output_type": "display_data"
    }
   ],
   "source": [
    "shapiro.test(data$rent)\n",
    "shapiro.test(data$area)"
   ]
  },
  {
   "cell_type": "code",
   "execution_count": 11,
   "id": "ea43dc65-304b-4a91-bd77-5b0870a0ec42",
   "metadata": {},
   "outputs": [
    {
     "data": {
      "text/plain": [
       "\n",
       "  1   2   3   4   5   6 \n",
       "255 715 759 263  47  14 "
      ]
     },
     "metadata": {},
     "output_type": "display_data"
    },
    {
     "data": {
      "text/plain": [
       "\n",
       "  1918   1924   1939   1948   1957 1957.5   1960   1966   1967   1968   1969 \n",
       "   409     69     14    105    225     68    143    228     35     23     44 \n",
       "  1970   1971   1972   1973   1974   1975   1976   1977   1978   1979   1980 \n",
       "    46     35     89     55     30     16      7      6      5      6     17 \n",
       "  1981   1982   1983   1984   1985   1986   1987   1988   1989   1990   1991 \n",
       "    15      8     40     17     20     11     20     13     15     10     14 \n",
       "  1992   1993   1994   1995   1996   1997   1998 1998.5   1999   2000   2001 \n",
       "    24     41     13      9     20     12     14     32      7     18      5 "
      ]
     },
     "metadata": {},
     "output_type": "display_data"
    }
   ],
   "source": [
    "table(data$room)\n",
    "table(data$yearc)"
   ]
  },
  {
   "cell_type": "code",
   "execution_count": 12,
   "id": "0e83f24d-5134-43e0-8c97-c81cd5e08a06",
   "metadata": {},
   "outputs": [
    {
     "data": {
      "text/html": [
       "<style>\n",
       ".list-inline {list-style: none; margin:0; padding: 0}\n",
       ".list-inline>li {display: inline-block}\n",
       ".list-inline>li:not(:last-child)::after {content: \"\\00b7\"; padding: 0 .5ex}\n",
       "</style>\n",
       "<ol class=list-inline><li>'bathextra'</li><li>'bathtile'</li><li>'cheating'</li><li>'upkitchen'</li><li>'wwater'</li></ol>\n"
      ],
      "text/latex": [
       "\\begin{enumerate*}\n",
       "\\item 'bathextra'\n",
       "\\item 'bathtile'\n",
       "\\item 'cheating'\n",
       "\\item 'upkitchen'\n",
       "\\item 'wwater'\n",
       "\\end{enumerate*}\n"
      ],
      "text/markdown": [
       "1. 'bathextra'\n",
       "2. 'bathtile'\n",
       "3. 'cheating'\n",
       "4. 'upkitchen'\n",
       "5. 'wwater'\n",
       "\n",
       "\n"
      ],
      "text/plain": [
       "[1] \"bathextra\" \"bathtile\"  \"cheating\"  \"upkitchen\" \"wwater\"   "
      ]
     },
     "metadata": {},
     "output_type": "display_data"
    }
   ],
   "source": [
    "names(data[-c(1,2,3,4,8,9)])"
   ]
  },
  {
   "cell_type": "code",
   "execution_count": 13,
   "id": "05d005d4-63ba-40fc-98d4-4be0212fb01b",
   "metadata": {},
   "outputs": [
    {
     "name": "stderr",
     "output_type": "stream",
     "text": [
      "Loading required package: graph\n",
      "\n",
      "Loading required package: BiocGenerics\n",
      "\n",
      "\n",
      "Attaching package: 'BiocGenerics'\n",
      "\n",
      "\n",
      "The following objects are masked from 'package:dplyr':\n",
      "\n",
      "    combine, intersect, setdiff, union\n",
      "\n",
      "\n",
      "The following objects are masked from 'package:stats':\n",
      "\n",
      "    IQR, mad, sd, var, xtabs\n",
      "\n",
      "\n",
      "The following objects are masked from 'package:base':\n",
      "\n",
      "    anyDuplicated, aperm, append, as.data.frame, basename, cbind,\n",
      "    colnames, dirname, do.call, duplicated, eval, evalq, Filter, Find,\n",
      "    get, grep, grepl, intersect, is.unsorted, lapply, Map, mapply,\n",
      "    match, mget, order, paste, pmax, pmax.int, pmin, pmin.int,\n",
      "    Position, rank, rbind, Reduce, rownames, sapply, saveRDS, setdiff,\n",
      "    table, tapply, union, unique, unsplit, which.max, which.min\n",
      "\n",
      "\n",
      "\n",
      "Attaching package: 'graph'\n",
      "\n",
      "\n",
      "The following objects are masked from 'package:gRbase':\n",
      "\n",
      "    addEdge, adj, connComp, edges, nodes, removeEdge, subGraph\n",
      "\n",
      "\n",
      "Loading required package: grid\n",
      "\n",
      "\n",
      "Attaching package: 'bnlearn'\n",
      "\n",
      "\n",
      "The following objects are masked from 'package:gRbase':\n",
      "\n",
      "    ancestors, children, parents\n",
      "\n",
      "\n",
      "\n",
      "Attaching package: 'ggm'\n",
      "\n",
      "\n",
      "The following object is masked from 'package:bnlearn':\n",
      "\n",
      "    marks\n",
      "\n",
      "\n",
      "\n",
      "Attaching package: 'igraph'\n",
      "\n",
      "\n",
      "The following object is masked from 'package:ggm':\n",
      "\n",
      "    pa\n",
      "\n",
      "\n",
      "The following objects are masked from 'package:bnlearn':\n",
      "\n",
      "    as.igraph, compare, degree, subgraph\n",
      "\n",
      "\n",
      "The following objects are masked from 'package:graph':\n",
      "\n",
      "    degree, edges, intersection, union\n",
      "\n",
      "\n",
      "The following objects are masked from 'package:BiocGenerics':\n",
      "\n",
      "    normalize, path, union\n",
      "\n",
      "\n",
      "The following objects are masked from 'package:gRbase':\n",
      "\n",
      "    edges, is_dag, topo_sort\n",
      "\n",
      "\n",
      "The following objects are masked from 'package:dplyr':\n",
      "\n",
      "    as_data_frame, groups, union\n",
      "\n",
      "\n",
      "The following objects are masked from 'package:stats':\n",
      "\n",
      "    decompose, spectrum\n",
      "\n",
      "\n",
      "The following object is masked from 'package:base':\n",
      "\n",
      "    union\n",
      "\n",
      "\n"
     ]
    }
   ],
   "source": [
    "library(gRbase)\n",
    "library(Rgraphviz)\n",
    "library(bnlearn)\n",
    "library(gRain)\n",
    "library(ggm)\n",
    "library(igraph)\n",
    "options(warn = -1)"
   ]
  },
  {
   "cell_type": "code",
   "execution_count": 18,
   "id": "6414052d-4dd1-4c80-b832-84ef62e556f9",
   "metadata": {},
   "outputs": [],
   "source": [
    "data$rooms <- as.factor(data$rooms)\n",
    "data$location <- as.factor(as.character(data$location))"
   ]
  },
  {
   "cell_type": "code",
   "execution_count": 19,
   "id": "82280ad9-8f77-429c-b018-8a523a5e94ed",
   "metadata": {},
   "outputs": [
    {
     "data": {
      "text/html": [
       "TRUE"
      ],
      "text/latex": [
       "TRUE"
      ],
      "text/markdown": [
       "TRUE"
      ],
      "text/plain": [
       "[1] TRUE"
      ]
     },
     "metadata": {},
     "output_type": "display_data"
    }
   ],
   "source": [
    "data$yearc <- round(data$yearc)\n",
    "data$year_group <- cut(data$yearc,\n",
    "  breaks = c(1917, 1959, 1969, 1989, 2001),\n",
    "  labels = c(\"1918-1959\", \"1960-1969\", \"1970-1989\", \"1990-2001\"),right = TRUE)\n",
    "length(data$year_group) == nrow(data)"
   ]
  },
  {
   "cell_type": "code",
   "execution_count": 20,
   "id": "ac95a8f9-29aa-4b06-8877-b19a2394d295",
   "metadata": {},
   "outputs": [
    {
     "data": {
      "text/plain": [
       "\n",
       "     Neuh-Nymp       Lud-Isar        Au-Haid       SchwWest         Maxvor \n",
       "           177            161            139            137            132 \n",
       "          Laim        Ram-Per Th-Ob-Fo-Fu-So         Bogenh      Ugies-Har \n",
       "           117            115            106             98             82 \n",
       "   Schwab-Frei        Mil-AmH      Send-West         Obgies           Send \n",
       "            78             70             69             67             66 \n",
       "      Schwanth        BamLaim           Moos     Pas-Obmenz            Had \n",
       "            62             60             58             56             50 \n",
       "        Alt-Le       Trud-Rie       Feld-Has       Au-Lo-La      All-Umenz \n",
       "            43             43             29             24             14 "
      ]
     },
     "metadata": {},
     "output_type": "display_data"
    }
   ],
   "source": [
    "district_counts <- sort(table(data$district), decreasing = TRUE)\n",
    "district_counts\n",
    "district_ordered <- names(district_counts)"
   ]
  },
  {
   "cell_type": "markdown",
   "id": "0de22959-c048-4247-ba03-75466bed6a53",
   "metadata": {},
   "source": [
    "Area 1:"
   ]
  },
  {
   "cell_type": "code",
   "execution_count": 21,
   "id": "f8254f09-404b-46be-a20f-fd14e05a22e1",
   "metadata": {},
   "outputs": [
    {
     "data": {
      "text/html": [
       "<style>\n",
       ".list-inline {list-style: none; margin:0; padding: 0}\n",
       ".list-inline>li {display: inline-block}\n",
       ".list-inline>li:not(:last-child)::after {content: \"\\00b7\"; padding: 0 .5ex}\n",
       "</style>\n",
       "<ol class=list-inline><li>'Neuh-Nymp'</li><li>'Lud-Isar'</li><li>'Au-Haid'</li><li>'SchwWest'</li><li>'Maxvor'</li><li>'Laim'</li><li>'Bogenh'</li><li>'Schwab-Frei'</li><li>'Mil-AmH'</li><li>'Schwanth'</li><li>'Alt-Le'</li></ol>\n"
      ],
      "text/latex": [
       "\\begin{enumerate*}\n",
       "\\item 'Neuh-Nymp'\n",
       "\\item 'Lud-Isar'\n",
       "\\item 'Au-Haid'\n",
       "\\item 'SchwWest'\n",
       "\\item 'Maxvor'\n",
       "\\item 'Laim'\n",
       "\\item 'Bogenh'\n",
       "\\item 'Schwab-Frei'\n",
       "\\item 'Mil-AmH'\n",
       "\\item 'Schwanth'\n",
       "\\item 'Alt-Le'\n",
       "\\end{enumerate*}\n"
      ],
      "text/markdown": [
       "1. 'Neuh-Nymp'\n",
       "2. 'Lud-Isar'\n",
       "3. 'Au-Haid'\n",
       "4. 'SchwWest'\n",
       "5. 'Maxvor'\n",
       "6. 'Laim'\n",
       "7. 'Bogenh'\n",
       "8. 'Schwab-Frei'\n",
       "9. 'Mil-AmH'\n",
       "10. 'Schwanth'\n",
       "11. 'Alt-Le'\n",
       "\n",
       "\n"
      ],
      "text/plain": [
       " [1] \"Neuh-Nymp\"   \"Lud-Isar\"    \"Au-Haid\"     \"SchwWest\"    \"Maxvor\"     \n",
       " [6] \"Laim\"        \"Bogenh\"      \"Schwab-Frei\" \"Mil-AmH\"     \"Schwanth\"   \n",
       "[11] \"Alt-Le\"     "
      ]
     },
     "metadata": {},
     "output_type": "display_data"
    }
   ],
   "source": [
    "area1_index <- c(1, 2, 3, 4, 5, 6, 9 ,11, 12, 16, 21)\n",
    "district_ordered[area1_index]"
   ]
  },
  {
   "cell_type": "markdown",
   "id": "415b1902-dbe6-4959-ac71-4b8dea73d810",
   "metadata": {},
   "source": [
    "Area 2:"
   ]
  },
  {
   "cell_type": "code",
   "execution_count": 22,
   "id": "a27ef9bb-cf54-41fd-a05e-b4bc47f42ca1",
   "metadata": {},
   "outputs": [
    {
     "data": {
      "text/html": [
       "<style>\n",
       ".list-inline {list-style: none; margin:0; padding: 0}\n",
       ".list-inline>li {display: inline-block}\n",
       ".list-inline>li:not(:last-child)::after {content: \"\\00b7\"; padding: 0 .5ex}\n",
       "</style>\n",
       "<ol class=list-inline><li>'Ram-Per'</li><li>'Th-Ob-Fo-Fu-So'</li><li>'Ugies-Har'</li><li>'Send-West'</li><li>'Obgies'</li><li>'Send'</li><li>'BamLaim'</li><li>'Had'</li><li>'Trud-Rie'</li></ol>\n"
      ],
      "text/latex": [
       "\\begin{enumerate*}\n",
       "\\item 'Ram-Per'\n",
       "\\item 'Th-Ob-Fo-Fu-So'\n",
       "\\item 'Ugies-Har'\n",
       "\\item 'Send-West'\n",
       "\\item 'Obgies'\n",
       "\\item 'Send'\n",
       "\\item 'BamLaim'\n",
       "\\item 'Had'\n",
       "\\item 'Trud-Rie'\n",
       "\\end{enumerate*}\n"
      ],
      "text/markdown": [
       "1. 'Ram-Per'\n",
       "2. 'Th-Ob-Fo-Fu-So'\n",
       "3. 'Ugies-Har'\n",
       "4. 'Send-West'\n",
       "5. 'Obgies'\n",
       "6. 'Send'\n",
       "7. 'BamLaim'\n",
       "8. 'Had'\n",
       "9. 'Trud-Rie'\n",
       "\n",
       "\n"
      ],
      "text/plain": [
       "[1] \"Ram-Per\"        \"Th-Ob-Fo-Fu-So\" \"Ugies-Har\"      \"Send-West\"     \n",
       "[5] \"Obgies\"         \"Send\"           \"BamLaim\"        \"Had\"           \n",
       "[9] \"Trud-Rie\"      "
      ]
     },
     "metadata": {},
     "output_type": "display_data"
    }
   ],
   "source": [
    "area2_index <- c(7, 8, 10, 13, 14, 15, 17, 20, 22)\n",
    "district_ordered[area2_index]"
   ]
  },
  {
   "cell_type": "markdown",
   "id": "2bcdef3d-a9e6-427e-aaeb-09a8eb8cdaf4",
   "metadata": {},
   "source": [
    "Area 3:"
   ]
  },
  {
   "cell_type": "code",
   "execution_count": 23,
   "id": "f6f49885-87df-4098-a4a5-5c9feaa28115",
   "metadata": {},
   "outputs": [
    {
     "data": {
      "text/html": [
       "<style>\n",
       ".list-inline {list-style: none; margin:0; padding: 0}\n",
       ".list-inline>li {display: inline-block}\n",
       ".list-inline>li:not(:last-child)::after {content: \"\\00b7\"; padding: 0 .5ex}\n",
       "</style>\n",
       "<ol class=list-inline><li>'Moos'</li><li>'Pas-Obmenz'</li><li>'Feld-Has'</li><li>'Au-Lo-La'</li><li>'All-Umenz'</li></ol>\n"
      ],
      "text/latex": [
       "\\begin{enumerate*}\n",
       "\\item 'Moos'\n",
       "\\item 'Pas-Obmenz'\n",
       "\\item 'Feld-Has'\n",
       "\\item 'Au-Lo-La'\n",
       "\\item 'All-Umenz'\n",
       "\\end{enumerate*}\n"
      ],
      "text/markdown": [
       "1. 'Moos'\n",
       "2. 'Pas-Obmenz'\n",
       "3. 'Feld-Has'\n",
       "4. 'Au-Lo-La'\n",
       "5. 'All-Umenz'\n",
       "\n",
       "\n"
      ],
      "text/plain": [
       "[1] \"Moos\"       \"Pas-Obmenz\" \"Feld-Has\"   \"Au-Lo-La\"   \"All-Umenz\" "
      ]
     },
     "metadata": {},
     "output_type": "display_data"
    }
   ],
   "source": [
    "area3_index <- setdiff(1:length(district_ordered), c(area1_index, area2_index))\n",
    "district_ordered[area3_index]"
   ]
  },
  {
   "cell_type": "code",
   "execution_count": 24,
   "id": "4ea3de14-52cd-4977-bb6a-2e4a82d40c95",
   "metadata": {},
   "outputs": [
    {
     "data": {
      "text/html": [
       "TRUE"
      ],
      "text/latex": [
       "TRUE"
      ],
      "text/markdown": [
       "TRUE"
      ],
      "text/plain": [
       "[1] TRUE"
      ]
     },
     "metadata": {},
     "output_type": "display_data"
    }
   ],
   "source": [
    "district_group_info <- data.frame(district = district_ordered,\n",
    "                                  group = NA)\n",
    "district_group_info$group[area1_index] <- \"Area1\"\n",
    "district_group_info$group[area2_index] <- \"Area2\"\n",
    "district_group_info$group[area3_index] <- \"Area3\"\n",
    "data$district_group <- \n",
    "  district_group_info$group[match(data$district, district_group_info$district)]\n",
    "data$district_group <- as.factor(data$district_group)\n",
    "sum(table(data$district_group)) == nrow(data)"
   ]
  },
  {
   "cell_type": "code",
   "execution_count": 25,
   "id": "74857df8-97a6-44a9-a86e-9ded4d3291bb",
   "metadata": {},
   "outputs": [],
   "source": [
    "data_bn <- data[, !(names(data) %in% c(\"yearc\", \"district\"))]\n",
    "data_bn$rent <- as.numeric(data_bn$rent)\n",
    "data_bn$area <- as.numeric(data_bn$area)"
   ]
  },
  {
   "cell_type": "code",
   "execution_count": 26,
   "id": "77a58281-6a76-4668-af93-e7e02e774f0e",
   "metadata": {},
   "outputs": [
    {
     "name": "stdout",
     "output_type": "stream",
     "text": [
      "'data.frame':\t2053 obs. of  11 variables:\n",
      " $ rent          : Factor w/ 3 levels \"[77.31,406.132]\",..: 3 3 2 2 3 3 1 2 2 1 ...\n",
      " $ area          : Factor w/ 3 levels \"[17,44]\",\"(44,78]\",..: 2 2 2 2 3 3 2 3 2 2 ...\n",
      " $ rooms         : Factor w/ 6 levels \"1\",\"2\",\"3\",\"4\",..: 2 2 3 3 4 4 2 3 1 3 ...\n",
      " $ bathextra     : Factor w/ 2 levels \"no\",\"yes\": 1 1 1 2 2 1 2 1 1 1 ...\n",
      " $ bathtile      : Factor w/ 2 levels \"yes\",\"no\": 1 1 1 1 1 1 1 1 1 1 ...\n",
      " $ cheating      : Factor w/ 2 levels \"yes\",\"no\": 1 1 1 1 1 1 1 1 1 1 ...\n",
      " $ location      : Factor w/ 3 levels \"good\",\"normal\",..: 1 1 1 2 1 2 2 2 2 2 ...\n",
      " $ upkitchen     : Factor w/ 2 levels \"no\",\"yes\": 1 1 1 1 2 1 1 1 1 1 ...\n",
      " $ wwater        : Factor w/ 2 levels \"yes\",\"no\": 1 1 1 1 1 1 1 1 1 1 ...\n",
      " $ year_group    : Factor w/ 4 levels \"1918-1959\",\"1960-1969\",..: 1 4 1 3 4 3 1 1 1 1 ...\n",
      " $ district_group: Factor w/ 3 levels \"Area1\",\"Area2\",..: 1 1 1 2 2 2 2 2 2 2 ...\n"
     ]
    }
   ],
   "source": [
    "data_disc <- discretize(data_bn, method = \"hartemink\",breaks = 3,ibreaks = 60,\n",
    "                        idisc = \"quantile\")\n",
    "str(data_disc)"
   ]
  },
  {
   "cell_type": "code",
   "execution_count": 27,
   "id": "0e9bfd0a-7ef0-4264-8138-c24ec720e0f1",
   "metadata": {},
   "outputs": [],
   "source": [
    "set.seed(42)\n",
    "boot_pc <- boot.strength(data = data_disc, R = 500, algorithm = \"pc.stable\",\n",
    "                         algorithm.args = list(test = \"mi\"))\n",
    "boot_hc <- boot.strength(data = data_disc, R = 500, algorithm = \"hc\", \n",
    "                         algorithm.args = list(score = \"bic\"))\n",
    "boot_mmhc <- boot.strength(data = data_disc, R = 500, algorithm = \"mmhc\")"
   ]
  },
  {
   "cell_type": "code",
   "execution_count": 28,
   "id": "f36b9edb-bd06-4204-898f-72436ef8c155",
   "metadata": {},
   "outputs": [],
   "source": [
    "avgnet_pc <- averaged.network(boot_pc[boot_pc$direction>=0.5,],threshold = 0.85)\n",
    "avgnet_hc <- averaged.network(boot_hc[boot_hc$direction>=0.5,],threshold = 0.85)\n",
    "avgnet_mmhc <- averaged.network(boot_mmhc[boot_mmhc$direction>=0.5,],threshold = 0.55)"
   ]
  },
  {
   "cell_type": "code",
   "execution_count": 29,
   "id": "db0b9e74-4bea-4870-90ea-a9eec27c0a75",
   "metadata": {},
   "outputs": [
    {
     "data": {
      "text/html": [
       "<table class=\"dataframe\">\n",
       "<caption>A data.frame: 3 × 4</caption>\n",
       "<thead>\n",
       "\t<tr><th scope=col>Algorithm</th><th scope=col>BIC</th><th scope=col>Egdes</th><th scope=col>Mean_Strength</th></tr>\n",
       "\t<tr><th scope=col>&lt;chr&gt;</th><th scope=col>&lt;dbl&gt;</th><th scope=col>&lt;int&gt;</th><th scope=col>&lt;dbl&gt;</th></tr>\n",
       "</thead>\n",
       "<tbody>\n",
       "\t<tr><td>pc.stable</td><td>-14943.23</td><td>4</td><td>0.9970000</td></tr>\n",
       "\t<tr><td>hc       </td><td>-14191.93</td><td>9</td><td>0.9815556</td></tr>\n",
       "\t<tr><td>mmhc     </td><td>-14290.91</td><td>7</td><td>0.9734286</td></tr>\n",
       "</tbody>\n",
       "</table>\n"
      ],
      "text/latex": [
       "A data.frame: 3 × 4\n",
       "\\begin{tabular}{llll}\n",
       " Algorithm & BIC & Egdes & Mean\\_Strength\\\\\n",
       " <chr> & <dbl> & <int> & <dbl>\\\\\n",
       "\\hline\n",
       "\t pc.stable & -14943.23 & 4 & 0.9970000\\\\\n",
       "\t hc        & -14191.93 & 9 & 0.9815556\\\\\n",
       "\t mmhc      & -14290.91 & 7 & 0.9734286\\\\\n",
       "\\end{tabular}\n"
      ],
      "text/markdown": [
       "\n",
       "A data.frame: 3 × 4\n",
       "\n",
       "| Algorithm &lt;chr&gt; | BIC &lt;dbl&gt; | Egdes &lt;int&gt; | Mean_Strength &lt;dbl&gt; |\n",
       "|---|---|---|---|\n",
       "| pc.stable | -14943.23 | 4 | 0.9970000 |\n",
       "| hc        | -14191.93 | 9 | 0.9815556 |\n",
       "| mmhc      | -14290.91 | 7 | 0.9734286 |\n",
       "\n"
      ],
      "text/plain": [
       "  Algorithm BIC       Egdes Mean_Strength\n",
       "1 pc.stable -14943.23 4     0.9970000    \n",
       "2 hc        -14191.93 9     0.9815556    \n",
       "3 mmhc      -14290.91 7     0.9734286    "
      ]
     },
     "metadata": {},
     "output_type": "display_data"
    }
   ],
   "source": [
    "mean_strength <- function(strength, DAG) \n",
    "  {arcs_net <- arcs(DAG)\n",
    "  matched_strength <- strength[\n",
    "    apply(strength[, c(\"from\", \"to\")], 1, function(x)\n",
    "      any(apply(arcs_net, 1, function(y) all(x == y)))\n",
    "    ),]\n",
    "  mean(matched_strength$strength)\n",
    "  }\n",
    "results <- data.frame(\n",
    "  Algorithm = c(\"pc.stable\", \"hc\", \"mmhc\"),\n",
    "  BIC = c(score(avgnet_pc,   data = data_disc, type = \"bic\"),\n",
    "          score(avgnet_hc,   data = data_disc, type = \"bic\"),\n",
    "          score(avgnet_mmhc, data = data_disc, type = \"bic\")),  \n",
    "  Egdes=c(dim(arcs(avgnet_pc))[1],\n",
    "          dim(arcs(avgnet_hc))[1],\n",
    "          dim(arcs(avgnet_mmhc))[1]),\n",
    "  Mean_Strength = c(mean_strength(boot_pc,   avgnet_pc),\n",
    "                    mean_strength(boot_hc,   avgnet_hc),\n",
    "                    mean_strength(boot_mmhc, avgnet_mmhc))\n",
    "  )\n",
    "results"
   ]
  },
  {
   "cell_type": "code",
   "execution_count": 30,
   "id": "74460308-9042-4aa6-aafb-a834e993dbc4",
   "metadata": {},
   "outputs": [
    {
     "data": {
      "image/png": "[encoded data removed]",
      "text/plain": [
       "plot without title"
      ]
     },
     "metadata": {
      "image/png": {
       "height": 420,
       "width": 420
      }
     },
     "output_type": "display_data"
    },
    {
     "data": {
      "image/png": "[encoded data removed]",
      "text/plain": [
       "plot without title"
      ]
     },
     "metadata": {
      "image/png": {
       "height": 420,
       "width": 420
      }
     },
     "output_type": "display_data"
    },
    {
     "data": {
      "image/png": "[encoded data removed]",
      "text/plain": [
       "plot without title"
      ]
     },
     "metadata": {
      "image/png": {
       "height": 420,
       "width": 420
      }
     },
     "output_type": "display_data"
    }
   ],
   "source": [
    "graphviz.plot(avgnet_pc, main = \"Averaged Model - pc.stable\")\n",
    "graphviz.plot(avgnet_hc, main = \"Averaged Model - hc\")\n",
    "graphviz.plot(avgnet_mmhc, main = \"Averaged Model - mmhc\")"
   ]
  },
  {
   "cell_type": "code",
   "execution_count": 31,
   "id": "22da0e75-4beb-4769-8f79-477af0b7d563",
   "metadata": {},
   "outputs": [],
   "source": [
    "avgnet_pc <- averaged.network(boot_pc[boot_pc$direction>=0.5,], threshold = 0.75)\n",
    "avgnet_hc <- averaged.network(boot_hc[boot_hc$direction>=0.5,],threshold = 0.75)\n",
    "avgnet_mmhc <- averaged.network(boot_mmhc[boot_mmhc$direction>=0.5,], threshold = 0.75)"
   ]
  },
  {
   "cell_type": "code",
   "execution_count": 32,
   "id": "820a987a-0199-47c1-b706-f8dad0249b37",
   "metadata": {},
   "outputs": [
    {
     "data": {
      "image/png": "[encoded data removed]",
      "text/plain": [
       "plot without title"
      ]
     },
     "metadata": {
      "image/png": {
       "height": 420,
       "width": 420
      }
     },
     "output_type": "display_data"
    },
    {
     "data": {
      "image/png": "[encoded data removed]",
      "text/plain": [
       "plot without title"
      ]
     },
     "metadata": {
      "image/png": {
       "height": 420,
       "width": 420
      }
     },
     "output_type": "display_data"
    },
    {
     "data": {
      "image/png": "[encoded data removed]",
      "text/plain": [
       "plot without title"
      ]
     },
     "metadata": {
      "image/png": {
       "height": 420,
       "width": 420
      }
     },
     "output_type": "display_data"
    }
   ],
   "source": [
    "graphviz.plot(avgnet_pc, main = \"Averaged Model - pc.stable\")\n",
    "graphviz.plot(avgnet_hc, main = \"Averaged Model - hc\")\n",
    "graphviz.plot(avgnet_mmhc, main = \"Averaged Model - mmhc\")"
   ]
  },
  {
   "cell_type": "code",
   "execution_count": 33,
   "id": "a4cbc6c1-e8ad-4ab7-82ff-64c3fda5250f",
   "metadata": {},
   "outputs": [
    {
     "data": {
      "text/html": [
       "<table class=\"dataframe\">\n",
       "<caption>A data.frame: 3 × 4</caption>\n",
       "<thead>\n",
       "\t<tr><th scope=col>Algorithm</th><th scope=col>BIC</th><th scope=col>Egdes</th><th scope=col>Mean_Strength</th></tr>\n",
       "\t<tr><th scope=col>&lt;chr&gt;</th><th scope=col>&lt;dbl&gt;</th><th scope=col>&lt;int&gt;</th><th scope=col>&lt;dbl&gt;</th></tr>\n",
       "</thead>\n",
       "<tbody>\n",
       "\t<tr><td>pc.stable</td><td>-14450.33</td><td> 5</td><td>0.9664000</td></tr>\n",
       "\t<tr><td>hc       </td><td>-14149.04</td><td>10</td><td>0.9624000</td></tr>\n",
       "\t<tr><td>mmhc     </td><td>-14290.91</td><td> 7</td><td>0.9734286</td></tr>\n",
       "</tbody>\n",
       "</table>\n"
      ],
      "text/latex": [
       "A data.frame: 3 × 4\n",
       "\\begin{tabular}{llll}\n",
       " Algorithm & BIC & Egdes & Mean\\_Strength\\\\\n",
       " <chr> & <dbl> & <int> & <dbl>\\\\\n",
       "\\hline\n",
       "\t pc.stable & -14450.33 &  5 & 0.9664000\\\\\n",
       "\t hc        & -14149.04 & 10 & 0.9624000\\\\\n",
       "\t mmhc      & -14290.91 &  7 & 0.9734286\\\\\n",
       "\\end{tabular}\n"
      ],
      "text/markdown": [
       "\n",
       "A data.frame: 3 × 4\n",
       "\n",
       "| Algorithm &lt;chr&gt; | BIC &lt;dbl&gt; | Egdes &lt;int&gt; | Mean_Strength &lt;dbl&gt; |\n",
       "|---|---|---|---|\n",
       "| pc.stable | -14450.33 |  5 | 0.9664000 |\n",
       "| hc        | -14149.04 | 10 | 0.9624000 |\n",
       "| mmhc      | -14290.91 |  7 | 0.9734286 |\n",
       "\n"
      ],
      "text/plain": [
       "  Algorithm BIC       Egdes Mean_Strength\n",
       "1 pc.stable -14450.33  5    0.9664000    \n",
       "2 hc        -14149.04 10    0.9624000    \n",
       "3 mmhc      -14290.91  7    0.9734286    "
      ]
     },
     "metadata": {},
     "output_type": "display_data"
    }
   ],
   "source": [
    "results <- data.frame(\n",
    "  Algorithm = c(\"pc.stable\", \"hc\", \"mmhc\"),\n",
    "  BIC = c(score(avgnet_pc,   data = data_disc, type = \"bic\"),\n",
    "          score(avgnet_hc,   data = data_disc, type = \"bic\"),\n",
    "          score(avgnet_mmhc, data = data_disc, type = \"bic\")),  \n",
    "  Egdes=c(dim(arcs(avgnet_pc))[1],\n",
    "          dim(arcs(avgnet_hc))[1],\n",
    "          dim(arcs(avgnet_mmhc))[1]),\n",
    "  Mean_Strength = c(mean_strength(boot_pc,   avgnet_pc),\n",
    "                    mean_strength(boot_hc,   avgnet_hc),\n",
    "                    mean_strength(boot_mmhc, avgnet_mmhc))\n",
    "  )\n",
    "results"
   ]
  },
  {
   "cell_type": "markdown",
   "id": "137cd151-a5cf-406e-ae25-d0ad32528107",
   "metadata": {},
   "source": [
    "hc(75%)"
   ]
  },
  {
   "cell_type": "code",
   "execution_count": 34,
   "id": "79bcc661-d85c-41cb-9d51-a0feef1a9475",
   "metadata": {},
   "outputs": [],
   "source": [
    "final_mod_dag=averaged.network(boot_hc[boot_hc$direction>=0.5,],threshold = 0.75)"
   ]
  },
  {
   "cell_type": "code",
   "execution_count": 35,
   "id": "7611f4cd-8c10-41e9-b650-b46cc57ac476",
   "metadata": {},
   "outputs": [],
   "source": [
    "fit = bn.fit(final_mod_dag, data = data_disc, method = \"mle\")"
   ]
  },
  {
   "cell_type": "markdown",
   "id": "da88375d-367f-4691-98fe-14f4d7c21f80",
   "metadata": {},
   "source": []
  },
  {
   "cell_type": "code",
   "execution_count": 36,
   "id": "f30cd91a-3bca-4472-a054-e70a0adb220d",
   "metadata": {},
   "outputs": [],
   "source": [
    "has_na <- sapply(fit, function(node) any(is.na(unlist(node$prob))))"
   ]
  },
  {
   "cell_type": "code",
   "execution_count": 37,
   "id": "46c823f3-c77a-4fc0-80d7-3761eaf19981",
   "metadata": {},
   "outputs": [
    {
     "data": {
      "text/html": [
       "<style>\n",
       ".dl-inline {width: auto; margin:0; padding: 0}\n",
       ".dl-inline>dt, .dl-inline>dd {float: none; width: auto; display: inline-block}\n",
       ".dl-inline>dt::after {content: \":\\0020\"; padding-right: .5ex}\n",
       ".dl-inline>dt:not(:first-of-type) {padding-left: .5ex}\n",
       "</style><dl class=dl-inline><dt>rent</dt><dd>FALSE</dd><dt>area</dt><dd>FALSE</dd><dt>rooms</dt><dd>FALSE</dd><dt>bathextra</dt><dd>FALSE</dd><dt>bathtile</dt><dd>FALSE</dd><dt>cheating</dt><dd>FALSE</dd><dt>location</dt><dd>FALSE</dd><dt>upkitchen</dt><dd>FALSE</dd><dt>wwater</dt><dd>FALSE</dd><dt>year_group</dt><dd>FALSE</dd><dt>district_group</dt><dd>FALSE</dd></dl>\n"
      ],
      "text/latex": [
       "\\begin{description*}\n",
       "\\item[rent] FALSE\n",
       "\\item[area] FALSE\n",
       "\\item[rooms] FALSE\n",
       "\\item[bathextra] FALSE\n",
       "\\item[bathtile] FALSE\n",
       "\\item[cheating] FALSE\n",
       "\\item[location] FALSE\n",
       "\\item[upkitchen] FALSE\n",
       "\\item[wwater] FALSE\n",
       "\\item[year\\textbackslash{}\\_group] FALSE\n",
       "\\item[district\\textbackslash{}\\_group] FALSE\n",
       "\\end{description*}\n"
      ],
      "text/markdown": [
       "rent\n",
       ":   FALSEarea\n",
       ":   FALSErooms\n",
       ":   FALSEbathextra\n",
       ":   FALSEbathtile\n",
       ":   FALSEcheating\n",
       ":   FALSElocation\n",
       ":   FALSEupkitchen\n",
       ":   FALSEwwater\n",
       ":   FALSEyear_group\n",
       ":   FALSEdistrict_group\n",
       ":   FALSE\n",
       "\n"
      ],
      "text/plain": [
       "          rent           area          rooms      bathextra       bathtile \n",
       "         FALSE          FALSE          FALSE          FALSE          FALSE \n",
       "      cheating       location      upkitchen         wwater     year_group \n",
       "         FALSE          FALSE          FALSE          FALSE          FALSE \n",
       "district_group \n",
       "         FALSE "
      ]
     },
     "metadata": {},
     "output_type": "display_data"
    }
   ],
   "source": [
    "has_na"
   ]
  },
  {
   "cell_type": "code",
   "execution_count": 39,
   "id": "d752ef15-fd46-4578-8162-1b7fbad6e1be",
   "metadata": {},
   "outputs": [],
   "source": [
    "gr_fit <- as.grain(fit)"
   ]
  },
  {
   "cell_type": "markdown",
   "id": "81f57e2a-65fb-4da3-a1e2-169775ad323c",
   "metadata": {},
   "source": [
    "Mối quan hệ trực tiếp:"
   ]
  },
  {
   "cell_type": "code",
   "execution_count": 40,
   "id": "ef745de5-3ce6-4a71-9dd2-dc62654b45b3",
   "metadata": {},
   "outputs": [
    {
     "data": {
      "text/html": [
       "<style>\n",
       ".list-inline {list-style: none; margin:0; padding: 0}\n",
       ".list-inline>li {display: inline-block}\n",
       ".list-inline>li:not(:last-child)::after {content: \"\\00b7\"; padding: 0 .5ex}\n",
       "</style>\n",
       "<ol class=list-inline><li>'area'</li><li>'year_group'</li></ol>\n"
      ],
      "text/latex": [
       "\\begin{enumerate*}\n",
       "\\item 'area'\n",
       "\\item 'year\\_group'\n",
       "\\end{enumerate*}\n"
      ],
      "text/markdown": [
       "1. 'area'\n",
       "2. 'year_group'\n",
       "\n",
       "\n"
      ],
      "text/plain": [
       "[1] \"area\"       \"year_group\""
      ]
     },
     "metadata": {},
     "output_type": "display_data"
    },
    {
     "data": {
      "text/html": [
       "<style>\n",
       ".list-inline {list-style: none; margin:0; padding: 0}\n",
       ".list-inline>li {display: inline-block}\n",
       ".list-inline>li:not(:last-child)::after {content: \"\\00b7\"; padding: 0 .5ex}\n",
       "</style>\n",
       "<ol class=list-inline><li>'bathextra'</li><li>'upkitchen'</li></ol>\n"
      ],
      "text/latex": [
       "\\begin{enumerate*}\n",
       "\\item 'bathextra'\n",
       "\\item 'upkitchen'\n",
       "\\end{enumerate*}\n"
      ],
      "text/markdown": [
       "1. 'bathextra'\n",
       "2. 'upkitchen'\n",
       "\n",
       "\n"
      ],
      "text/plain": [
       "[1] \"bathextra\" \"upkitchen\""
      ]
     },
     "metadata": {},
     "output_type": "display_data"
    }
   ],
   "source": [
    "bnlearn::parents(fit,\"rent\")\n",
    "bnlearn::children(fit,\"rent\")"
   ]
  },
  {
   "cell_type": "code",
   "execution_count": 41,
   "id": "e1a1e641-a5dc-4260-9f19-faafa3fbe802",
   "metadata": {},
   "outputs": [
    {
     "data": {
      "text/html": [
       "TRUE"
      ],
      "text/latex": [
       "TRUE"
      ],
      "text/markdown": [
       "TRUE"
      ],
      "text/plain": [
       "[1] TRUE"
      ]
     },
     "metadata": {},
     "output_type": "display_data"
    }
   ],
   "source": [
    "dsep(fit,\"district_group\",\"bathextra\",\"rent\")"
   ]
  },
  {
   "cell_type": "code",
   "execution_count": 42,
   "id": "218aa618-2ef5-4104-9f1a-5b6002f2aaf0",
   "metadata": {},
   "outputs": [
    {
     "data": {
      "text/html": [
       "<table class=\"dataframe\">\n",
       "<caption>A data.frame: 1 × 6</caption>\n",
       "<thead>\n",
       "\t<tr><th></th><th scope=col>area</th><th scope=col>bathextra</th><th scope=col>location</th><th scope=col>upkitchen</th><th scope=col>district_group</th><th scope=col>rent</th></tr>\n",
       "\t<tr><th></th><th scope=col>&lt;fct&gt;</th><th scope=col>&lt;fct&gt;</th><th scope=col>&lt;fct&gt;</th><th scope=col>&lt;fct&gt;</th><th scope=col>&lt;fct&gt;</th><th scope=col>&lt;fct&gt;</th></tr>\n",
       "</thead>\n",
       "<tbody>\n",
       "\t<tr><th scope=row>18</th><td>(78,185]</td><td>no</td><td>good</td><td>no</td><td>Area1</td><td>(687.072,1789.55]</td></tr>\n",
       "</tbody>\n",
       "</table>\n"
      ],
      "text/latex": [
       "A data.frame: 1 × 6\n",
       "\\begin{tabular}{r|llllll}\n",
       "  & area & bathextra & location & upkitchen & district\\_group & rent\\\\\n",
       "  & <fct> & <fct> & <fct> & <fct> & <fct> & <fct>\\\\\n",
       "\\hline\n",
       "\t18 & (78,185{]} & no & good & no & Area1 & (687.072,1789.55{]}\\\\\n",
       "\\end{tabular}\n"
      ],
      "text/markdown": [
       "\n",
       "A data.frame: 1 × 6\n",
       "\n",
       "| <!--/--> | area &lt;fct&gt; | bathextra &lt;fct&gt; | location &lt;fct&gt; | upkitchen &lt;fct&gt; | district_group &lt;fct&gt; | rent &lt;fct&gt; |\n",
       "|---|---|---|---|---|---|---|\n",
       "| 18 | (78,185] | no | good | no | Area1 | (687.072,1789.55] |\n",
       "\n"
      ],
      "text/plain": [
       "   area     bathextra location upkitchen district_group rent             \n",
       "18 (78,185] no        good     no        Area1          (687.072,1789.55]"
      ]
     },
     "metadata": {},
     "output_type": "display_data"
    }
   ],
   "source": [
    "data_disc[c(18),][c(2,4,7:8,11,1)]"
   ]
  },
  {
   "cell_type": "code",
   "execution_count": 43,
   "id": "bf98aaa8-1228-457f-a40d-e69ca9a1ff2c",
   "metadata": {},
   "outputs": [
    {
     "data": {
      "text/html": [
       "TRUE"
      ],
      "text/latex": [
       "TRUE"
      ],
      "text/markdown": [
       "TRUE"
      ],
      "text/plain": [
       "[1] TRUE"
      ]
     },
     "metadata": {},
     "output_type": "display_data"
    }
   ],
   "source": [
    "dsep(fit,\"rent\",\"rooms\",\"area\")"
   ]
  },
  {
   "cell_type": "code",
   "execution_count": 44,
   "id": "481b77f5-b00a-4d2d-8e71-aca16f81693b",
   "metadata": {},
   "outputs": [
    {
     "data": {
      "text/html": [
       "TRUE"
      ],
      "text/latex": [
       "TRUE"
      ],
      "text/markdown": [
       "TRUE"
      ],
      "text/plain": [
       "[1] TRUE"
      ]
     },
     "metadata": {},
     "output_type": "display_data"
    },
    {
     "data": {
      "text/html": [
       "TRUE"
      ],
      "text/latex": [
       "TRUE"
      ],
      "text/markdown": [
       "TRUE"
      ],
      "text/plain": [
       "[1] TRUE"
      ]
     },
     "metadata": {},
     "output_type": "display_data"
    },
    {
     "data": {
      "text/html": [
       "TRUE"
      ],
      "text/latex": [
       "TRUE"
      ],
      "text/markdown": [
       "TRUE"
      ],
      "text/plain": [
       "[1] TRUE"
      ]
     },
     "metadata": {},
     "output_type": "display_data"
    }
   ],
   "source": [
    "dsep(fit,\"rent\",\"location\",\"year_group\")\n",
    "dsep(fit,\"rent\",\"district_group\",\"year_group\")\n",
    "dsep(fit,\"rent\",\"cheating\",\"year_group\")"
   ]
  },
  {
   "cell_type": "code",
   "execution_count": 45,
   "id": "cb7fab57-ec52-4d61-bde5-2f08bdaddf4f",
   "metadata": {},
   "outputs": [
    {
     "data": {
      "text/html": [
       "TRUE"
      ],
      "text/latex": [
       "TRUE"
      ],
      "text/markdown": [
       "TRUE"
      ],
      "text/plain": [
       "[1] TRUE"
      ]
     },
     "metadata": {},
     "output_type": "display_data"
    },
    {
     "data": {
      "text/html": [
       "TRUE"
      ],
      "text/latex": [
       "TRUE"
      ],
      "text/markdown": [
       "TRUE"
      ],
      "text/plain": [
       "[1] TRUE"
      ]
     },
     "metadata": {},
     "output_type": "display_data"
    },
    {
     "data": {
      "text/html": [
       "TRUE"
      ],
      "text/latex": [
       "TRUE"
      ],
      "text/markdown": [
       "TRUE"
      ],
      "text/plain": [
       "[1] TRUE"
      ]
     },
     "metadata": {},
     "output_type": "display_data"
    },
    {
     "data": {
      "text/html": [
       "TRUE"
      ],
      "text/latex": [
       "TRUE"
      ],
      "text/markdown": [
       "TRUE"
      ],
      "text/plain": [
       "[1] TRUE"
      ]
     },
     "metadata": {},
     "output_type": "display_data"
    },
    {
     "data": {
      "text/html": [
       "FALSE"
      ],
      "text/latex": [
       "FALSE"
      ],
      "text/markdown": [
       "FALSE"
      ],
      "text/plain": [
       "[1] FALSE"
      ]
     },
     "metadata": {},
     "output_type": "display_data"
    },
    {
     "data": {
      "text/html": [
       "FALSE"
      ],
      "text/latex": [
       "FALSE"
      ],
      "text/markdown": [
       "FALSE"
      ],
      "text/plain": [
       "[1] FALSE"
      ]
     },
     "metadata": {},
     "output_type": "display_data"
    },
    {
     "data": {
      "text/html": [
       "FALSE"
      ],
      "text/latex": [
       "FALSE"
      ],
      "text/markdown": [
       "FALSE"
      ],
      "text/plain": [
       "[1] FALSE"
      ]
     },
     "metadata": {},
     "output_type": "display_data"
    },
    {
     "data": {
      "text/html": [
       "FALSE"
      ],
      "text/latex": [
       "FALSE"
      ],
      "text/markdown": [
       "FALSE"
      ],
      "text/plain": [
       "[1] FALSE"
      ]
     },
     "metadata": {},
     "output_type": "display_data"
    }
   ],
   "source": [
    "dsep(fit,\"area\",\"year_group\")\n",
    "dsep(fit,\"rooms\",\"district_group\")\n",
    "dsep(fit,\"area\",\"cheating\")\n",
    "dsep(fit,\"area\",\"location\")\n",
    "dsep(fit,\"area\",\"year_group\",\"rent\")\n",
    "dsep(fit,\"rooms\",\"district_group\",\"rent\")\n",
    "dsep(fit,\"area\",\"cheating\",\"rent\")\n",
    "dsep(fit,\"area\",\"location\",\"rent\")"
   ]
  },
  {
   "cell_type": "code",
   "execution_count": 46,
   "id": "054ff6be-dbf2-4c96-9933-0f7626b068cb",
   "metadata": {},
   "outputs": [
    {
     "data": {
      "image/png": "[encoded data removed]",
      "text/plain": [
       "plot without title"
      ]
     },
     "metadata": {
      "image/png": {
       "height": 420,
       "width": 420
      }
     },
     "output_type": "display_data"
    }
   ],
   "source": [
    "library(lattice)\n",
    "districts <- levels(data_disc$district_group)\n",
    "loc_levels <- c(\"good\", \"top\")\n",
    "distr <- do.call(rbind, lapply(districts, function(d) {\n",
    "  prob <- querygrain(setEvidence(gr_fit, evidence = list(district_group = d)), nodes = \"location\")$location\n",
    "  data.frame(District = d, Location = loc_levels, Prob = as.numeric(prob[loc_levels]))\n",
    "}))\n",
    "barchart(Location ~ Prob | District, data = distr,\n",
    "         layout = c(3, 1), xlab = \"probability\",\n",
    "         strip = strip.custom(factor.levels = paste(\"Pr(location |\", districts, \")\")),\n",
    "         col = c(\"gray40\", \"gray80\"),\n",
    "         panel = function(...) {\n",
    "           panel.barchart(...)\n",
    "           panel.grid(h = 0, v = -1)\n",
    "         })"
   ]
  },
  {
   "cell_type": "code",
   "execution_count": 47,
   "id": "3977475c-73e8-4e0c-8431-f046243f0a2a",
   "metadata": {},
   "outputs": [
    {
     "data": {
      "text/html": [
       "<style>\n",
       ".list-inline {list-style: none; margin:0; padding: 0}\n",
       ".list-inline>li {display: inline-block}\n",
       ".list-inline>li:not(:last-child)::after {content: \"\\00b7\"; padding: 0 .5ex}\n",
       "</style>\n",
       "<ol class=list-inline><li>'[77.31,406.132]'</li><li>'(406.132,687.072]'</li><li>'(687.072,1789.55]'</li></ol>\n"
      ],
      "text/latex": [
       "\\begin{enumerate*}\n",
       "\\item '{[}77.31,406.132{]}'\n",
       "\\item '(406.132,687.072{]}'\n",
       "\\item '(687.072,1789.55{]}'\n",
       "\\end{enumerate*}\n"
      ],
      "text/markdown": [
       "1. '[77.31,406.132]'\n",
       "2. '(406.132,687.072]'\n",
       "3. '(687.072,1789.55]'\n",
       "\n",
       "\n"
      ],
      "text/plain": [
       "[1] \"[77.31,406.132]\"   \"(406.132,687.072]\" \"(687.072,1789.55]\""
      ]
     },
     "metadata": {},
     "output_type": "display_data"
    },
    {
     "data": {
      "text/html": [
       "0.739128958892019"
      ],
      "text/latex": [
       "0.739128958892019"
      ],
      "text/markdown": [
       "0.739128958892019"
      ],
      "text/plain": [
       "[1] 0.739129"
      ]
     },
     "metadata": {},
     "output_type": "display_data"
    },
    {
     "data": {
      "text/html": [
       "0.72737984496124"
      ],
      "text/latex": [
       "0.72737984496124"
      ],
      "text/markdown": [
       "0.72737984496124"
      ],
      "text/plain": [
       "[1] 0.7273798"
      ]
     },
     "metadata": {},
     "output_type": "display_data"
    },
    {
     "data": {
      "text/html": [
       "0.724921277552857"
      ],
      "text/latex": [
       "0.724921277552857"
      ],
      "text/markdown": [
       "0.724921277552857"
      ],
      "text/plain": [
       "[1] 0.7249213"
      ]
     },
     "metadata": {},
     "output_type": "display_data"
    }
   ],
   "source": [
    "levels(data_disc$rent)\n",
    "cpquery(fit,event = rent %in% c(\"[77.31,406.132]\",\"(406.132,687.072]\"),\n",
    "        evidence = (district_group == \"Area1\"),\n",
    "        n = 10^5)\n",
    "cpquery(fit,event = rent %in% c(\"[77.31,406.132]\",\"(406.132,687.072]\"),\n",
    "        evidence = (district_group == \"Area2\"),\n",
    "        n = 10^5)\n",
    "cpquery(fit,event = rent %in% c(\"[77.31,406.132]\",\"(406.132,687.072]\"),\n",
    "        evidence = (district_group == \"Area3\"),\n",
    "        n = 10^5)"
   ]
  },
  {
   "cell_type": "code",
   "execution_count": 48,
   "id": "af1d621e-5cb2-4e4e-a990-8da8e8043f26",
   "metadata": {},
   "outputs": [
    {
     "data": {
      "text/html": [
       "<style>\n",
       ".dl-inline {width: auto; margin:0; padding: 0}\n",
       ".dl-inline>dt, .dl-inline>dd {float: none; width: auto; display: inline-block}\n",
       ".dl-inline>dt::after {content: \":\\0020\"; padding-right: .5ex}\n",
       ".dl-inline>dt:not(:first-of-type) {padding-left: .5ex}\n",
       "</style><dl class=dl-inline><dt>yes</dt><dd>0.994142705005324</dd><dt>no</dt><dd>0.00585729499467518</dd></dl>\n"
      ],
      "text/latex": [
       "\\begin{description*}\n",
       "\\item[yes] 0.994142705005324\n",
       "\\item[no] 0.00585729499467518\n",
       "\\end{description*}\n"
      ],
      "text/markdown": [
       "yes\n",
       ":   0.994142705005324no\n",
       ":   0.00585729499467518\n",
       "\n"
      ],
      "text/plain": [
       "wwater\n",
       "        yes          no \n",
       "0.994142705 0.005857295 "
      ]
     },
     "metadata": {},
     "output_type": "display_data"
    }
   ],
   "source": [
    "querygrain(setEvidence(gr_fit, nodes = \"cheating\", states = \"yes\"),nodes = c(\"wwater\"),type = \"joint\")"
   ]
  },
  {
   "cell_type": "code",
   "execution_count": 49,
   "id": "e7c6b7ad-01c5-4e23-86f0-c882a9091951",
   "metadata": {},
   "outputs": [
    {
     "data": {
      "text/html": [
       "<style>\n",
       ".list-inline {list-style: none; margin:0; padding: 0}\n",
       ".list-inline>li {display: inline-block}\n",
       ".list-inline>li:not(:last-child)::after {content: \"\\00b7\"; padding: 0 .5ex}\n",
       "</style>\n",
       "<ol class=list-inline><li>'1918-1959'</li><li>'1960-1969'</li><li>'1970-1989'</li><li>'1990-2001'</li></ol>\n"
      ],
      "text/latex": [
       "\\begin{enumerate*}\n",
       "\\item '1918-1959'\n",
       "\\item '1960-1969'\n",
       "\\item '1970-1989'\n",
       "\\item '1990-2001'\n",
       "\\end{enumerate*}\n"
      ],
      "text/markdown": [
       "1. '1918-1959'\n",
       "2. '1960-1969'\n",
       "3. '1970-1989'\n",
       "4. '1990-2001'\n",
       "\n",
       "\n"
      ],
      "text/plain": [
       "[1] \"1918-1959\" \"1960-1969\" \"1970-1989\" \"1990-2001\""
      ]
     },
     "metadata": {},
     "output_type": "display_data"
    },
    {
     "data": {
      "text/html": [
       "<strong>yes:</strong> 0.812359550561798"
      ],
      "text/latex": [
       "\\textbf{yes:} 0.812359550561798"
      ],
      "text/markdown": [
       "**yes:** 0.812359550561798"
      ],
      "text/plain": [
       "      yes \n",
       "0.8123596 "
      ]
     },
     "metadata": {},
     "output_type": "display_data"
    },
    {
     "data": {
      "text/html": [
       "<strong>yes:</strong> 0.983086680761099"
      ],
      "text/latex": [
       "\\textbf{yes:} 0.983086680761099"
      ],
      "text/markdown": [
       "**yes:** 0.983086680761099"
      ],
      "text/plain": [
       "      yes \n",
       "0.9830867 "
      ]
     },
     "metadata": {},
     "output_type": "display_data"
    },
    {
     "data": {
      "text/html": [
       "<strong>yes:</strong> 1"
      ],
      "text/latex": [
       "\\textbf{yes:} 1"
      ],
      "text/markdown": [
       "**yes:** 1"
      ],
      "text/plain": [
       "yes \n",
       "  1 "
      ]
     },
     "metadata": {},
     "output_type": "display_data"
    }
   ],
   "source": [
    "levels(data_disc$year_group)\n",
    "querygrain(setEvidence(gr_fit, nodes = \"year_group\", states = \"1918-1959\"),\n",
    "           nodes = c(\"cheating\"),type = \"joint\")[\"yes\"]\n",
    "\n",
    "querygrain(setEvidence(gr_fit, nodes = \"year_group\", states = \"1960-1969\"),\n",
    "           nodes = c(\"cheating\"),type = \"joint\")[\"yes\"]\n",
    "\n",
    "querygrain(setEvidence(gr_fit, nodes = \"year_group\", states = \"1990-2001\"),\n",
    "           nodes = c(\"cheating\"),type = \"joint\")[\"yes\"]"
   ]
  },
  {
   "cell_type": "code",
   "execution_count": 50,
   "id": "5e00a6fd-3daf-4674-857a-d5b12fe33b65",
   "metadata": {},
   "outputs": [
    {
     "data": {
      "text/html": [
       "<style>\n",
       ".list-inline {list-style: none; margin:0; padding: 0}\n",
       ".list-inline>li {display: inline-block}\n",
       ".list-inline>li:not(:last-child)::after {content: \"\\00b7\"; padding: 0 .5ex}\n",
       "</style>\n",
       "<ol class=list-inline><li>'[77.31,406.132]'</li><li>'(406.132,687.072]'</li><li>'(687.072,1789.55]'</li></ol>\n"
      ],
      "text/latex": [
       "\\begin{enumerate*}\n",
       "\\item '{[}77.31,406.132{]}'\n",
       "\\item '(406.132,687.072{]}'\n",
       "\\item '(687.072,1789.55{]}'\n",
       "\\end{enumerate*}\n"
      ],
      "text/markdown": [
       "1. '[77.31,406.132]'\n",
       "2. '(406.132,687.072]'\n",
       "3. '(687.072,1789.55]'\n",
       "\n",
       "\n"
      ],
      "text/plain": [
       "[1] \"[77.31,406.132]\"   \"(406.132,687.072]\" \"(687.072,1789.55]\""
      ]
     },
     "metadata": {},
     "output_type": "display_data"
    },
    {
     "data": {
      "text/html": [
       "<strong>yes:</strong> 0.812359550561798"
      ],
      "text/latex": [
       "\\textbf{yes:} 0.812359550561798"
      ],
      "text/markdown": [
       "**yes:** 0.812359550561798"
      ],
      "text/plain": [
       "      yes \n",
       "0.8123596 "
      ]
     },
     "metadata": {},
     "output_type": "display_data"
    },
    {
     "data": {
      "text/html": [
       "<strong>yes:</strong> 0.983086680761099"
      ],
      "text/latex": [
       "\\textbf{yes:} 0.983086680761099"
      ],
      "text/markdown": [
       "**yes:** 0.983086680761099"
      ],
      "text/plain": [
       "      yes \n",
       "0.9830867 "
      ]
     },
     "metadata": {},
     "output_type": "display_data"
    },
    {
     "data": {
      "text/html": [
       "<strong>yes:</strong> 1"
      ],
      "text/latex": [
       "\\textbf{yes:} 1"
      ],
      "text/markdown": [
       "**yes:** 1"
      ],
      "text/plain": [
       "yes \n",
       "  1 "
      ]
     },
     "metadata": {},
     "output_type": "display_data"
    }
   ],
   "source": [
    "levels(data_disc$rent)\n",
    "querygrain(setEvidence(gr_fit, nodes = \"year_group\", states = \"1918-1959\"),\n",
    "           nodes = c(\"cheating\"),type = \"joint\")[\"yes\"]\n",
    "\n",
    "querygrain(setEvidence(gr_fit, nodes = \"year_group\", states = \"1960-1969\"),\n",
    "           nodes = c(\"cheating\"),type = \"joint\")[\"yes\"]\n",
    "\n",
    "querygrain(setEvidence(gr_fit, nodes = \"year_group\", states = \"1990-2001\"),\n",
    "           nodes = c(\"cheating\"),type = \"joint\")[\"yes\"]"
   ]
  },
  {
   "cell_type": "code",
   "execution_count": 51,
   "id": "bb60027c-5185-4cec-9073-7e285e1a3542",
   "metadata": {},
   "outputs": [
    {
     "data": {
      "text/html": [
       "0.000206657927988569"
      ],
      "text/latex": [
       "0.000206657927988569"
      ],
      "text/markdown": [
       "0.000206657927988569"
      ],
      "text/plain": [
       "[1] 0.0002066579"
      ]
     },
     "metadata": {},
     "output_type": "display_data"
    },
    {
     "data": {
      "text/html": [
       "0.00356602486826954"
      ],
      "text/latex": [
       "0.00356602486826954"
      ],
      "text/markdown": [
       "0.00356602486826954"
      ],
      "text/plain": [
       "[1] 0.003566025"
      ]
     },
     "metadata": {},
     "output_type": "display_data"
    },
    {
     "data": {
      "text/html": [
       "0.0353774841493953"
      ],
      "text/latex": [
       "0.0353774841493953"
      ],
      "text/markdown": [
       "0.0353774841493953"
      ],
      "text/plain": [
       "[1] 0.03537748"
      ]
     },
     "metadata": {},
     "output_type": "display_data"
    },
    {
     "data": {
      "text/html": [
       "<strong>yes:</strong> 0.151459854014599"
      ],
      "text/latex": [
       "\\textbf{yes:} 0.151459854014599"
      ],
      "text/markdown": [
       "**yes:** 0.151459854014599"
      ],
      "text/plain": [
       "      yes \n",
       "0.1514599 "
      ]
     },
     "metadata": {},
     "output_type": "display_data"
    },
    {
     "data": {
      "text/html": [
       "<strong>yes:</strong> 0.233576642335766"
      ],
      "text/latex": [
       "\\textbf{yes:} 0.233576642335766"
      ],
      "text/markdown": [
       "**yes:** 0.233576642335766"
      ],
      "text/plain": [
       "      yes \n",
       "0.2335766 "
      ]
     },
     "metadata": {},
     "output_type": "display_data"
    }
   ],
   "source": [
    "querygrain(setEvidence(gr_fit, nodes = \"rent\", states = \"[77.31,406.132]\"),\n",
    "           nodes = c(\"upkitchen\", \"bathextra\"), type = \"joint\")[\"yes\",\"yes\"]\n",
    "\n",
    "querygrain(setEvidence(gr_fit, nodes = \"rent\", states = \"(406.132,687.072]\"),\n",
    "           nodes = c(\"upkitchen\", \"bathextra\"), type = \"joint\")[\"yes\",\"yes\"]\n",
    "\n",
    "querygrain(setEvidence(gr_fit, nodes = \"rent\", states = \"(687.072,1789.55]\"),\n",
    "           nodes = c(\"upkitchen\", \"bathextra\"), type = \"joint\")[\"yes\",\"yes\"]\n",
    "\n",
    "querygrain(setEvidence(gr_fit, nodes = \"rent\", states = \"(687.072,1789.55]\"),\n",
    "           nodes = c(\"upkitchen\"), type = \"joint\")[\"yes\"]\n",
    "\n",
    "querygrain(setEvidence(gr_fit, nodes = \"rent\", states = \"(687.072,1789.55]\"),\n",
    "           nodes = c(\"bathextra\"), type = \"joint\")[\"yes\"]"
   ]
  },
  {
   "cell_type": "code",
   "execution_count": null,
   "id": "eb5d19bf-fff9-4095-83b2-cd7bd5a2f1e4",
   "metadata": {},
   "outputs": [],
   "source": []
  }
 ],
 "metadata": {
  "kernelspec": {
   "display_name": "R",
   "language": "R",
   "name": "ir"
  },
  "language_info": {
   "codemirror_mode": "r",
   "file_extension": ".r",
   "mimetype": "text/x-r-source",
   "name": "R",
   "pygments_lexer": "r",
   "version": "4.4.3"
  }
 },
 "nbformat": 4,
 "nbformat_minor": 5
}
