{
 "cells": [
  {
   "cell_type": "code",
   "execution_count": 2,
   "id": "a577007d-30dc-4e98-a0a9-a8da468ab774",
   "metadata": {},
   "outputs": [
    {
     "ename": "ExecuteError",
     "evalue": "[0]: \n---------------------------------------------------------------------------\nNameError                                 Traceback (most recent call last)\nscript_6005585399173590000 in <module>\n----> b <- 5\n      print(paste(\"R OK:\", b))\n      \n\nNameError: name 'b' is not defined",
     "execution_count": 2,
     "output_type": "error",
     "status": "error",
     "traceback": [
      "\u001b[91m[0]: \n---------------------------------------------------------------------------\nNameError                                 Traceback (most recent call last)\nscript_6005585399173590000 in <module>\n----> b <- 5\n      print(paste(\"R OK:\", b))\n      \n\nNameError: name 'b' is not defined\u001b[0m"
     ]
    }
   ],
   "source": [
    "b <- 5\n",
    "print(paste(\"R OK:\", b))"
   ]
  },
  {
   "cell_type": "code",
   "execution_count": 3,
   "id": "261392e8-203e-4211-9d23-88b0aa4fdc28",
   "metadata": {},
   "outputs": [
    {
     "name": "stdout",
     "output_type": "stream",
     "text": [
      "Python OK 10\n"
     ]
    }
   ],
   "source": [
    "a = 10\n",
    "print(\"Python OK\", a)\n"
   ]
  },
  {
   "cell_type": "code",
   "execution_count": null,
   "id": "a6c8aa87-e071-4965-944e-98998f71e001",
   "metadata": {},
   "outputs": [],
   "source": []
  }
 ],
 "metadata": {
  "kernelspec": {
   "display_name": "SoS",
   "language": "sos",
   "name": "sos"
  },
  "language_info": {
   "codemirror_mode": "sos",
   "file_extension": ".sos",
   "mimetype": "text/x-sos",
   "name": "sos",
   "nbconvert_exporter": "sos_notebook.converter.SoS_Exporter",
   "pygments_lexer": "sos"
  }
 },
 "nbformat": 4,
 "nbformat_minor": 5
}
