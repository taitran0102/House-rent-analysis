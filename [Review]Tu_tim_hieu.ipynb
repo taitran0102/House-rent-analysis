{
 "cells": [
  {
   "cell_type": "markdown",
   "id": "dd4e03db",
   "metadata": {},
   "source": [
    "## $\\textbf{Một số toán tử cần nhớ}$"
   ]
  },
  {
   "cell_type": "markdown",
   "id": "c131e1b3",
   "metadata": {},
   "source": [
    "### Lấy mũ: $x^a$ là x**a"
   ]
  },
  {
   "cell_type": "code",
   "execution_count": 1,
   "id": "2522767d",
   "metadata": {},
   "outputs": [
    {
     "data": {
      "text/plain": [
       "8"
      ]
     },
     "execution_count": 1,
     "metadata": {},
     "output_type": "execute_result"
    }
   ],
   "source": [
    "2**3"
   ]
  },
  {
   "cell_type": "markdown",
   "id": "e86a4d7b",
   "metadata": {},
   "source": [
    "### Chia lấy phần dư (modulo): là a%b"
   ]
  },
  {
   "cell_type": "code",
   "execution_count": 2,
   "id": "dcd82d14",
   "metadata": {},
   "outputs": [
    {
     "data": {
      "text/plain": [
       "1"
      ]
     },
     "execution_count": 2,
     "metadata": {},
     "output_type": "execute_result"
    }
   ],
   "source": [
    "10%3"
   ]
  },
  {
   "cell_type": "markdown",
   "id": "f937b94a",
   "metadata": {},
   "source": [
    "### Floor division: chia lấy phần nguyên dưới a//b"
   ]
  },
  {
   "cell_type": "code",
   "execution_count": 2,
   "id": "7599baee",
   "metadata": {},
   "outputs": [
    {
     "name": "stdout",
     "output_type": "stream",
     "text": [
      "2\n",
      "4\n"
     ]
    }
   ],
   "source": [
    "print(5//2)\n",
    "print(9//2)\n"
   ]
  },
  {
   "cell_type": "markdown",
   "id": "5608993e",
   "metadata": {},
   "source": [
    "### Toán tử so sánh:"
   ]
  },
  {
   "cell_type": "code",
   "execution_count": 10,
   "id": "57b0b684",
   "metadata": {},
   "outputs": [
    {
     "data": {
      "text/plain": [
       "True"
      ]
     },
     "execution_count": 10,
     "metadata": {},
     "output_type": "execute_result"
    }
   ],
   "source": [
    "1!=2"
   ]
  },
  {
   "cell_type": "code",
   "execution_count": 11,
   "id": "c0929588",
   "metadata": {},
   "outputs": [
    {
     "data": {
      "text/plain": [
       "False"
      ]
     },
     "execution_count": 11,
     "metadata": {},
     "output_type": "execute_result"
    }
   ],
   "source": [
    "1>2"
   ]
  },
  {
   "cell_type": "code",
   "execution_count": 12,
   "id": "5afa4332",
   "metadata": {},
   "outputs": [
    {
     "data": {
      "text/plain": [
       "True"
      ]
     },
     "execution_count": 12,
     "metadata": {},
     "output_type": "execute_result"
    }
   ],
   "source": [
    "3<=4"
   ]
  },
  {
   "cell_type": "markdown",
   "id": "c73a8dd4",
   "metadata": {},
   "source": [
    "### Expressions: A combination of numbers, symbols, and variables to compute and return a result upon evaluation"
   ]
  },
  {
   "cell_type": "code",
   "execution_count": 13,
   "id": "7d6ad773",
   "metadata": {},
   "outputs": [
    {
     "data": {
      "text/plain": [
       "[1, 2, 3, 2, 4, 6]"
      ]
     },
     "execution_count": 13,
     "metadata": {},
     "output_type": "execute_result"
    }
   ],
   "source": [
    "[1, 2, 3] + [2, 4, 6]"
   ]
  },
  {
   "cell_type": "code",
   "execution_count": 14,
   "id": "f53cd3dc",
   "metadata": {},
   "outputs": [
    {
     "data": {
      "text/plain": [
       "[1, 2, '4', 2, 4, 6]"
      ]
     },
     "execution_count": 14,
     "metadata": {},
     "output_type": "execute_result"
    }
   ],
   "source": [
    "[1, 2, '4'] + [2, 4, 6]"
   ]
  },
  {
   "cell_type": "code",
   "execution_count": 15,
   "id": "e8a880d3",
   "metadata": {},
   "outputs": [
    {
     "data": {
      "text/plain": [
       "[1, 2, {'a': 1, 'b': 'False'}, 2, 4, 6]"
      ]
     },
     "execution_count": 15,
     "metadata": {},
     "output_type": "execute_result"
    }
   ],
   "source": [
    "[1, 2, {\"a\":1,\"b\":\"False\"}] + [2, 4, 6]"
   ]
  },
  {
   "cell_type": "markdown",
   "id": "7b6995db",
   "metadata": {},
   "source": [
    "Có vẻ như cộng hai list thì sẽ tạo ra list mới có được bằng cách bổ sung các phần tử phía sau dấu $\"+\"$ vào list phía trước."
   ]
  },
  {
   "cell_type": "code",
   "execution_count": 16,
   "id": "ab275867",
   "metadata": {},
   "outputs": [
    {
     "name": "stdout",
     "output_type": "stream",
     "text": [
      "<class 'list'>\n"
     ]
    }
   ],
   "source": [
    "print(type([1, 2, {\"a\":1,\"b\":\"False\"}] + [2, 4, 6]))"
   ]
  },
  {
   "cell_type": "markdown",
   "id": "ee75fb3e",
   "metadata": {},
   "source": [
    "### Functions: A group of related statements to perform a task and return a value"
   ]
  },
  {
   "cell_type": "code",
   "execution_count": 4,
   "id": "dff88d5c",
   "metadata": {},
   "outputs": [
    {
     "data": {
      "text/plain": [
       "23.88888888888889"
      ]
     },
     "execution_count": 4,
     "metadata": {},
     "output_type": "execute_result"
    }
   ],
   "source": [
    "def to_celsius(x):\n",
    "   '''Convert Fahrenheit to Celsius'''\n",
    "   return (x-32) * 5/9\n",
    "\n",
    "to_celsius(75)"
   ]
  },
  {
   "cell_type": "markdown",
   "id": "cb6cc6b1",
   "metadata": {},
   "source": [
    "### Conditional statements: Sections of code that direct program execution based on specified conditions\n",
    "\n"
   ]
  },
  {
   "cell_type": "code",
   "execution_count": 6,
   "id": "c479948f",
   "metadata": {},
   "outputs": [
    {
     "name": "stdout",
     "output_type": "stream",
     "text": [
      "Number is negative.\n"
     ]
    }
   ],
   "source": [
    "number = -4\n",
    "\n",
    "if number > 0:\n",
    "   print('Number is positive.')\n",
    "elif number == 0:\n",
    "   print('Number is zero.')\n",
    "else:\n",
    "   print('Number is negative.')"
   ]
  },
  {
   "cell_type": "markdown",
   "id": "49f62c6d",
   "metadata": {},
   "source": [
    " Python generates syntax errors for incorrectly used keywords and syntax."
   ]
  },
  {
   "cell_type": "code",
   "execution_count": 7,
   "id": "d2493a19",
   "metadata": {},
   "outputs": [
    {
     "ename": "SyntaxError",
     "evalue": "invalid character '’' (U+2019) (1015363433.py, line 1)",
     "output_type": "error",
     "traceback": [
      "\u001b[1;36m  Cell \u001b[1;32mIn[7], line 1\u001b[1;36m\u001b[0m\n\u001b[1;33m    print(This will throw an error because I didn’t make it a string.)\u001b[0m\n\u001b[1;37m                                                 ^\u001b[0m\n\u001b[1;31mSyntaxError\u001b[0m\u001b[1;31m:\u001b[0m invalid character '’' (U+2019)\n"
     ]
    }
   ],
   "source": [
    "print(This will throw an error because I didn’t make it a string.)"
   ]
  },
  {
   "cell_type": "code",
   "execution_count": 8,
   "id": "b70327ea",
   "metadata": {},
   "outputs": [
    {
     "name": "stdout",
     "output_type": "stream",
     "text": [
      "This will throw an error because I didn’t make it a string.\n"
     ]
    }
   ],
   "source": [
    "print('This will throw an error because I didn’t make it a string.')"
   ]
  },
  {
   "cell_type": "markdown",
   "id": "2ad98f4f",
   "metadata": {},
   "source": [
    "### Tính giới hạn\n",
    "$$\n",
    "\\lim_{t \\to \\infty} \\ln(t) = \\infty\n",
    "$$"
   ]
  },
  {
   "cell_type": "code",
   "execution_count": 1,
   "id": "8b0c0e1c",
   "metadata": {},
   "outputs": [
    {
     "data": {
      "text/latex": [
       "$\\displaystyle \\infty$"
      ],
      "text/plain": [
       "oo"
      ]
     },
     "execution_count": 1,
     "metadata": {},
     "output_type": "execute_result"
    }
   ],
   "source": [
    "from sympy import symbols, limit, oo, ln\n",
    "\n",
    "t = symbols('t')\n",
    "limit(ln(t),t,oo)\n",
    "\n",
    "ln(t).limit(t,oo) #Using dot notation"
   ]
  },
  {
   "cell_type": "markdown",
   "id": "3400d4c5",
   "metadata": {},
   "source": [
    "Nếu in print() thì ra oo"
   ]
  },
  {
   "cell_type": "code",
   "execution_count": 60,
   "id": "dc911558",
   "metadata": {},
   "outputs": [
    {
     "name": "stdout",
     "output_type": "stream",
     "text": [
      "oo\n"
     ]
    }
   ],
   "source": [
    "lim=limit(ln(t),t,oo)\n",
    "print(lim)"
   ]
  },
  {
   "cell_type": "markdown",
   "id": "c7f0afaa",
   "metadata": {},
   "source": [
    "#### Một bên\n",
    "$$\n",
    "\\lim_{x \\to 0^-}\\frac{1}{x}=-\\infty; \\quad \\lim_{x \\to 0^+}\\frac{1}{x}=\\infty;\n",
    "$$"
   ]
  },
  {
   "cell_type": "code",
   "execution_count": 69,
   "id": "5d0863c6",
   "metadata": {},
   "outputs": [
    {
     "name": "stdout",
     "output_type": "stream",
     "text": [
      "-oo\n",
      "oo\n"
     ]
    }
   ],
   "source": [
    "from sympy import symbols, limit\n",
    "x = symbols('x')\n",
    "print(limit(1/x, x, 0, dir='-') )\n",
    "print(limit(1/x, x, 0, dir='+')  )"
   ]
  },
  {
   "cell_type": "markdown",
   "id": "6c5c8fd5",
   "metadata": {},
   "source": [
    "$$\n",
    "\\lim_{x \\to 0^-}|x|=\\lim_{x \\to 0^+}|x|=0;\n",
    "$$"
   ]
  },
  {
   "cell_type": "code",
   "execution_count": 78,
   "id": "07db9111",
   "metadata": {},
   "outputs": [
    {
     "name": "stdout",
     "output_type": "stream",
     "text": [
      "0\n",
      "0\n"
     ]
    }
   ],
   "source": [
    "from sympy import symbols, Abs\n",
    "x = symbols('x')\n",
    "print(limit(Abs(x), x, 0, dir='-')) \n",
    "print(limit(Abs(x), x, 0, dir='+') )"
   ]
  },
  {
   "cell_type": "markdown",
   "id": "6181b78b",
   "metadata": {},
   "source": [
    "### Tính đạo hàm\n",
    "$$\n",
    "f(x)=x^2+3x+2 \\Rightarrow \\frac{d}{dx}f(x)=2x+3 \n",
    "$$"
   ]
  },
  {
   "cell_type": "code",
   "execution_count": 15,
   "id": "d5b12c55",
   "metadata": {},
   "outputs": [
    {
     "name": "stdout",
     "output_type": "stream",
     "text": [
      "2*x + 3\n"
     ]
    }
   ],
   "source": [
    "from sympy import symbols, diff, ln\n",
    "\n",
    "x = symbols('x')\n",
    "f = x**2 + 3*x + 2\n",
    "\n",
    "# Đạo hàm f theo x\n",
    "f_prime = diff(f, x)\n",
    "print(f_prime)  # Kết quả: 2*x + 3\n",
    "\n"
   ]
  },
  {
   "cell_type": "markdown",
   "id": "a0e55b4e",
   "metadata": {},
   "source": [
    "### Tích phân bất định\n",
    "$$\n",
    "\\int x^2 dx = \\frac{x^3}{3} \\quad \\left(+C\\right)\n",
    "$$"
   ]
  },
  {
   "cell_type": "code",
   "execution_count": 35,
   "id": "2b6020ff",
   "metadata": {},
   "outputs": [
    {
     "data": {
      "text/latex": [
       "$\\displaystyle \\frac{y^{3}}{3}$"
      ],
      "text/plain": [
       "y**3/3"
      ]
     },
     "execution_count": 35,
     "metadata": {},
     "output_type": "execute_result"
    }
   ],
   "source": [
    "from sympy import integrate\n",
    "y=symbols('y')\n",
    "# Tích phân bất định của x**2\n",
    "F=integrate(y**2, y)\n",
    "F"
   ]
  },
  {
   "cell_type": "code",
   "execution_count": 37,
   "id": "2d83c803",
   "metadata": {},
   "outputs": [
    {
     "name": "stdout",
     "output_type": "stream",
     "text": [
      "<class 'sympy.core.mul.Mul'>\n",
      "Đạo hàm của y**3/3 là y**2\n"
     ]
    }
   ],
   "source": [
    "F=(y**2).integrate(y)\n",
    "print(type(F))\n",
    "print(\"Đạo hàm của \"+ str(F) +\" là \" + str(str(F.diff(y))))"
   ]
  },
  {
   "cell_type": "code",
   "execution_count": 55,
   "id": "547ae1de",
   "metadata": {},
   "outputs": [
    {
     "data": {
      "text/latex": [
       "$\\displaystyle \\frac{1}{2}$"
      ],
      "text/plain": [
       "1/2"
      ]
     },
     "execution_count": 55,
     "metadata": {},
     "output_type": "execute_result"
    }
   ],
   "source": [
    "from sympy import integrate, gamma, beta, zeta,sqrt,pi\n",
    "y=symbols('y')\n",
    "beta(1,2)"
   ]
  },
  {
   "cell_type": "markdown",
   "id": "60a24f43",
   "metadata": {},
   "source": [
    "### Tích phân xác định\n",
    "$$\n",
    "\\int_{0}^2 x^2 dx = \\frac{x^3}{3} \\bigg|_{x=0}^{x=2}=\\frac{8}{3}\n",
    "$$"
   ]
  },
  {
   "cell_type": "code",
   "execution_count": 34,
   "id": "5c168366",
   "metadata": {},
   "outputs": [
    {
     "name": "stdout",
     "output_type": "stream",
     "text": [
      "8/3\n"
     ]
    },
    {
     "data": {
      "text/latex": [
       "$\\displaystyle \\frac{8}{3}$"
      ],
      "text/plain": [
       "8/3"
      ]
     },
     "execution_count": 34,
     "metadata": {},
     "output_type": "execute_result"
    }
   ],
   "source": [
    "# Tính ∫ x^2 dx từ 0 đến 2\n",
    "area = integrate(x**2, (x, 0, 2))\n",
    "print(area)  # Kết quả: 8/3\n",
    "area"
   ]
  },
  {
   "cell_type": "markdown",
   "id": "32180fc7",
   "metadata": {},
   "source": [
    "### Tích phân suy rộng"
   ]
  },
  {
   "cell_type": "markdown",
   "id": "687ead2e",
   "metadata": {},
   "source": [
    "- Hội tụ\n",
    "$$\n",
    "\\int_{1}^{\\infty}\\frac{1}{x^2}dx=1; \\quad \\int_{\\infty}^{0}e^xdx=1\n",
    "$$"
   ]
  },
  {
   "cell_type": "code",
   "execution_count": 33,
   "id": "af2d1cb0",
   "metadata": {},
   "outputs": [
    {
     "name": "stdout",
     "output_type": "stream",
     "text": [
      "1\n",
      "1\n"
     ]
    }
   ],
   "source": [
    "from sympy import symbols, integrate, oo, exp\n",
    "x = symbols('x')\n",
    "\n",
    "expr = 1 / x**2\n",
    "result = integrate(expr, (x, 1, oo))\n",
    "print(result)  \n",
    "\n",
    "expr = exp(x)\n",
    "result = integrate(expr, (x, -oo, 0))\n",
    "print(result) "
   ]
  },
  {
   "cell_type": "markdown",
   "id": "be49570c",
   "metadata": {},
   "source": [
    "- Phân kỳ: có thể cho ra $\\infty$ luôn chứ không xấp xỉ\n",
    "$$\n",
    "\\int_{1}^{\\infty}\\frac{1}{x}dx=\\lim_{t \\to \\infty} \\int_{1}^{t}\\frac{1}{x}dx=\\lim_{t \\to \\infty}\\left(\\ln(x)\\big|_{x=1}^t \\right) =\\lim_{t \\to \\infty}\\ln(t)=\\infty\n",
    "$$"
   ]
  },
  {
   "cell_type": "code",
   "execution_count": 56,
   "id": "714fde2c",
   "metadata": {},
   "outputs": [
    {
     "data": {
      "text/latex": [
       "$\\displaystyle \\infty$"
      ],
      "text/plain": [
       "oo"
      ]
     },
     "execution_count": 56,
     "metadata": {},
     "output_type": "execute_result"
    }
   ],
   "source": [
    "from sympy import symbols, integrate, oo,ln\n",
    "x = symbols('x')\n",
    "expr = 1 / x\n",
    "integrate(expr, (x, 1, oo))"
   ]
  },
  {
   "cell_type": "markdown",
   "id": "f821902d",
   "metadata": {},
   "source": [
    "$$\n",
    "\\int_{1}^{\\infty}e^x dx=\\infty\n",
    "$$"
   ]
  },
  {
   "cell_type": "code",
   "execution_count": 57,
   "id": "602fa4c0",
   "metadata": {},
   "outputs": [
    {
     "data": {
      "text/latex": [
       "$\\displaystyle \\infty$"
      ],
      "text/plain": [
       "oo"
      ]
     },
     "execution_count": 57,
     "metadata": {},
     "output_type": "execute_result"
    }
   ],
   "source": [
    "from sympy import symbols, integrate, oo, exp,sin,cos,beta\n",
    "x = symbols('x')\n",
    "y = symbols('y')\n",
    "exp(x).integrate((x, -oo, oo))"
   ]
  },
  {
   "cell_type": "markdown",
   "id": "506d8eea",
   "metadata": {},
   "source": [
    "Nếu dùng print() thì ra oo"
   ]
  },
  {
   "cell_type": "code",
   "execution_count": 31,
   "id": "a6b14a8c",
   "metadata": {},
   "outputs": [
    {
     "name": "stdout",
     "output_type": "stream",
     "text": [
      "oo\n"
     ]
    }
   ],
   "source": [
    "from sympy import symbols, integrate, oo\n",
    "\n",
    "x = symbols('x')\n",
    "expr = 1 / x\n",
    "\n",
    "result = integrate(expr, (x, 1, oo))\n",
    "print(result)  # Kết quả: oo (vô cực)"
   ]
  },
  {
   "cell_type": "markdown",
   "id": "ef21ce08",
   "metadata": {},
   "source": [
    "### functions, methods và dot notation"
   ]
  },
  {
   "cell_type": "code",
   "execution_count": 32,
   "id": "e75ff909",
   "metadata": {},
   "outputs": [
    {
     "name": "stdout",
     "output_type": "stream",
     "text": [
      "Cách 1: oo\n",
      "Cách 2: dùng dot notation --> oo\n",
      "--------\n",
      "<class 'sympy.core.symbol.Symbol'>\n",
      "log\n",
      "--------\n",
      "9\n",
      "9\n"
     ]
    }
   ],
   "source": [
    "# Ví dụ tính giới hạn với thư viện sympy \n",
    "from sympy import symbols, limit, oo, ln #Import các thứ cần thiết\n",
    "\n",
    "t = symbols('t') # Định nghĩa biến t, các hàm có thể dùng biến t\n",
    "\n",
    "print(\"Cách 1: \"+ str(limit(ln(t),t,oo))) # Tính lim ln(t) khi t tiến ra vô cực \n",
    "\n",
    "print(\"Cách 2: dùng dot notation --> \"+ str(ln(t).limit(t,oo))) # Dùng dot notation\n",
    "print(\"----\"+\"----\")\n",
    "\n",
    "#Do đó, methods có thể hiểu là các hàm thuộc về một lớp nào đó\n",
    "print(type(t))\n",
    "print(type(ln(t)))\n",
    "\n",
    "#Và có thể dùng dot notation để gọi hàm\n",
    "print(\"----\"+\"----\")\n",
    "#functions thì không thuộc lớp nào cụ thể, không dùng dot notation được\n",
    "#([6, 3]).sum()\n",
    "\n",
    "#Tuy nhiên, nếu dùng một thư viện mà trong đó \n",
    "# có định nghĩa một kiểu dữ liệu (class)\n",
    "# sao cho có metheds với cú pháp tương tự thì sẽ dùng được \n",
    "# Ví dụ:\n",
    "import numpy as np\n",
    "a = np.array([6, 3])\n",
    "print(a.sum()) #dùng .sum() như methods cho kiểu np.array của numpy\n",
    "\n",
    "import pandas as pd\n",
    "\n",
    "s = pd.Series([6, 3])\n",
    "print(s.sum())  # dùng .sum() như methods cho kiểu pd.Series của pandas\n",
    "\n"
   ]
  }
 ],
 "metadata": {
  "kernelspec": {
   "display_name": "Python 3",
   "language": "python",
   "name": "python3"
  },
  "language_info": {
   "codemirror_mode": {
    "name": "ipython",
    "version": 3
   },
   "file_extension": ".py",
   "mimetype": "text/x-python",
   "name": "python",
   "nbconvert_exporter": "python",
   "pygments_lexer": "ipython3",
   "version": "3.13.1"
  }
 },
 "nbformat": 4,
 "nbformat_minor": 5
}
